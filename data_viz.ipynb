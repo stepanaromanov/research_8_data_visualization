{
 "cells": [
  {
   "cell_type": "markdown",
   "metadata": {},
   "source": [
    "# Визуализация данных рынка общественного питания Москвы\n",
    "<br>\n",
    "Заказчик запланировал открыть небольшое кафе в Москве. Отличительная особенность - обслуживание роботами. \n",
    "Средства на открытие будут привлекаться от инвесторов. Инвесторов интересует текущее положение дел на рынке и насколько перспективно в долгосрочном периоде кафе с роботами-официантами. Наша главная задача - <b> подготовить исследование рынка с использованием информации из открытых источников</b>. Мы имеем два набора данных, один из которых содержит информацию об объектах общепита, а второй - об улицах и районах города.\n",
    "Разделим данные исследование на несколько шагов:<br>\n",
    "\n",
    "## <a href='#section1'>1 Загрузка данных и подготовка к анализу</a><br>\n",
    "## <a href='#section2'>2 Анализ данных</a><br>\n",
    "### <a href='#section21'>2.1 Исследование соотношения видов объектов по количеству</a><br>\n",
    "### <a href='#section22'>2.2 Исследование соотношения сетевых и несетевых заведений по количеству</a><br>\n",
    "### <a href='#section23'>2.3 Описание среднего количества посадочных мест</a><br>\n",
    "### <a href='#section24'>2.4 Выделение информации об улице (из столбца address)</a><br>\n",
    "### <a href='#section25'>2.5 Построение графика топ-10 улиц</a><br>\n",
    "### <a href='#section26'>2.6 Поиск числа улиц с одним объектом общественного питания</a><br>\n",
    "### <a href='#section27'>2.7 Анализ распределения посадочных мест для улиц с большим количеством объектов</a><br>\n",
    "### <a href='#section28'>2.8 Формулирование общего вывода, рекомендаций, комментариев</a><br>"
   ]
  },
  {
   "cell_type": "markdown",
   "metadata": {},
   "source": [
    "## <a id='section1'>1 Загрузка данных и подготовка к анализу</a><br>"
   ]
  },
  {
   "cell_type": "code",
   "execution_count": 1,
   "metadata": {},
   "outputs": [
    {
     "data": {
      "text/html": [
       "<div>\n",
       "<style scoped>\n",
       "    .dataframe tbody tr th:only-of-type {\n",
       "        vertical-align: middle;\n",
       "    }\n",
       "\n",
       "    .dataframe tbody tr th {\n",
       "        vertical-align: top;\n",
       "    }\n",
       "\n",
       "    .dataframe thead th {\n",
       "        text-align: right;\n",
       "    }\n",
       "</style>\n",
       "<table border=\"1\" class=\"dataframe\">\n",
       "  <thead>\n",
       "    <tr style=\"text-align: right;\">\n",
       "      <th></th>\n",
       "      <th>id</th>\n",
       "      <th>object_name</th>\n",
       "      <th>chain</th>\n",
       "      <th>object_type</th>\n",
       "      <th>address</th>\n",
       "      <th>number</th>\n",
       "    </tr>\n",
       "  </thead>\n",
       "  <tbody>\n",
       "    <tr>\n",
       "      <td>0</td>\n",
       "      <td>151635</td>\n",
       "      <td>СМЕТАНА</td>\n",
       "      <td>нет</td>\n",
       "      <td>кафе</td>\n",
       "      <td>город Москва, улица Егора Абакумова, дом 9</td>\n",
       "      <td>48</td>\n",
       "    </tr>\n",
       "    <tr>\n",
       "      <td>1</td>\n",
       "      <td>77874</td>\n",
       "      <td>Родник</td>\n",
       "      <td>нет</td>\n",
       "      <td>кафе</td>\n",
       "      <td>город Москва, улица Талалихина, дом 2/1, корпус 1</td>\n",
       "      <td>35</td>\n",
       "    </tr>\n",
       "    <tr>\n",
       "      <td>2</td>\n",
       "      <td>24309</td>\n",
       "      <td>Кафе «Академия»</td>\n",
       "      <td>нет</td>\n",
       "      <td>кафе</td>\n",
       "      <td>город Москва, Абельмановская улица, дом 6</td>\n",
       "      <td>95</td>\n",
       "    </tr>\n",
       "    <tr>\n",
       "      <td>3</td>\n",
       "      <td>21894</td>\n",
       "      <td>ПИЦЦЕТОРИЯ</td>\n",
       "      <td>да</td>\n",
       "      <td>кафе</td>\n",
       "      <td>город Москва, Абрамцевская улица, дом 1</td>\n",
       "      <td>40</td>\n",
       "    </tr>\n",
       "    <tr>\n",
       "      <td>4</td>\n",
       "      <td>119365</td>\n",
       "      <td>Кафе «Вишневая метель»</td>\n",
       "      <td>нет</td>\n",
       "      <td>кафе</td>\n",
       "      <td>город Москва, Абрамцевская улица, дом 9, корпус 1</td>\n",
       "      <td>50</td>\n",
       "    </tr>\n",
       "    <tr>\n",
       "      <td>...</td>\n",
       "      <td>...</td>\n",
       "      <td>...</td>\n",
       "      <td>...</td>\n",
       "      <td>...</td>\n",
       "      <td>...</td>\n",
       "      <td>...</td>\n",
       "    </tr>\n",
       "    <tr>\n",
       "      <td>95</td>\n",
       "      <td>127674</td>\n",
       "      <td>СУШИ SHOP</td>\n",
       "      <td>нет</td>\n",
       "      <td>предприятие быстрого обслуживания</td>\n",
       "      <td>город Москва, улица Маршала Бирюзова, дом 13</td>\n",
       "      <td>12</td>\n",
       "    </tr>\n",
       "    <tr>\n",
       "      <td>96</td>\n",
       "      <td>142568</td>\n",
       "      <td>Хинкальная (на М. Бирюзова)</td>\n",
       "      <td>нет</td>\n",
       "      <td>кафе</td>\n",
       "      <td>город Москва, улица Маршала Бирюзова, дом 16</td>\n",
       "      <td>14</td>\n",
       "    </tr>\n",
       "    <tr>\n",
       "      <td>97</td>\n",
       "      <td>125817</td>\n",
       "      <td>ШАУРМА ЖИ</td>\n",
       "      <td>нет</td>\n",
       "      <td>закусочная</td>\n",
       "      <td>город Москва, улица Маршала Бирюзова, дом 19</td>\n",
       "      <td>16</td>\n",
       "    </tr>\n",
       "    <tr>\n",
       "      <td>98</td>\n",
       "      <td>129397</td>\n",
       "      <td>СУШИ ВОК</td>\n",
       "      <td>да</td>\n",
       "      <td>кафе</td>\n",
       "      <td>город Москва, улица Маршала Бирюзова, дом 19</td>\n",
       "      <td>6</td>\n",
       "    </tr>\n",
       "    <tr>\n",
       "      <td>99</td>\n",
       "      <td>22292</td>\n",
       "      <td>ПРИМАВЕРА</td>\n",
       "      <td>да</td>\n",
       "      <td>ресторан</td>\n",
       "      <td>город Москва, улица Маршала Бирюзова, дом 21</td>\n",
       "      <td>50</td>\n",
       "    </tr>\n",
       "  </tbody>\n",
       "</table>\n",
       "<p>100 rows × 6 columns</p>\n",
       "</div>"
      ],
      "text/plain": [
       "        id                  object_name chain  \\\n",
       "0   151635                      СМЕТАНА   нет   \n",
       "1    77874                       Родник   нет   \n",
       "2    24309              Кафе «Академия»   нет   \n",
       "3    21894                   ПИЦЦЕТОРИЯ    да   \n",
       "4   119365       Кафе «Вишневая метель»   нет   \n",
       "..     ...                          ...   ...   \n",
       "95  127674                    СУШИ SHOP   нет   \n",
       "96  142568  Хинкальная (на М. Бирюзова)   нет   \n",
       "97  125817                    ШАУРМА ЖИ   нет   \n",
       "98  129397                     СУШИ ВОК    да   \n",
       "99   22292                    ПРИМАВЕРА    да   \n",
       "\n",
       "                          object_type  \\\n",
       "0                                кафе   \n",
       "1                                кафе   \n",
       "2                                кафе   \n",
       "3                                кафе   \n",
       "4                                кафе   \n",
       "..                                ...   \n",
       "95  предприятие быстрого обслуживания   \n",
       "96                               кафе   \n",
       "97                         закусочная   \n",
       "98                               кафе   \n",
       "99                           ресторан   \n",
       "\n",
       "                                              address  number  \n",
       "0          город Москва, улица Егора Абакумова, дом 9      48  \n",
       "1   город Москва, улица Талалихина, дом 2/1, корпус 1      35  \n",
       "2           город Москва, Абельмановская улица, дом 6      95  \n",
       "3             город Москва, Абрамцевская улица, дом 1      40  \n",
       "4   город Москва, Абрамцевская улица, дом 9, корпус 1      50  \n",
       "..                                                ...     ...  \n",
       "95       город Москва, улица Маршала Бирюзова, дом 13      12  \n",
       "96       город Москва, улица Маршала Бирюзова, дом 16      14  \n",
       "97       город Москва, улица Маршала Бирюзова, дом 19      16  \n",
       "98       город Москва, улица Маршала Бирюзова, дом 19       6  \n",
       "99       город Москва, улица Маршала Бирюзова, дом 21      50  \n",
       "\n",
       "[100 rows x 6 columns]"
      ]
     },
     "execution_count": 1,
     "metadata": {},
     "output_type": "execute_result"
    }
   ],
   "source": [
    "#Импортируем библиотеки\n",
    "import pandas as pd\n",
    "import numpy as np\n",
    "import matplotlib.pyplot as plt\n",
    "import seaborn as sns\n",
    "import warnings\n",
    "from pandas.core.common import SettingWithCopyWarning\n",
    "warnings.simplefilter(action=\"ignore\", category=SettingWithCopyWarning)\n",
    "#Настраиваем стиль графиков\n",
    "plt.style.use('seaborn-pastel')\n",
    "large = 14; med = 12; small = 10\n",
    "params = {'figure.figsize': (14, 7),\n",
    "          'axes.grid' : True,\n",
    "          'grid.alpha': 0.3,\n",
    "          'axes.titlesize': med,\n",
    "          'axes.titleweight': 'light',\n",
    "          'axes.labelweight': 'light',\n",
    "          'legend.fontsize': small,\n",
    "          'axes.labelsize': med,\n",
    "          'axes.titlesize': large,\n",
    "          'xtick.labelsize': small,\n",
    "          'ytick.labelsize': small,\n",
    "          'figure.titlesize': large\n",
    "          }\n",
    "plt.rcParams.update(params)\n",
    "#Загружаем данные для анализа\n",
    "rest_data = pd.read_csv('/datasets/rest_data.csv')\n",
    "streets_and_areas = pd.read_csv('/datasets/moscow-streets.csv')\n",
    "rest_data.head(100)"
   ]
  },
  {
   "cell_type": "code",
   "execution_count": 2,
   "metadata": {},
   "outputs": [],
   "source": [
    "#Приведем названия объектов к нижнему регистру\n",
    "rest_data['object_name'] = rest_data['object_name'].str.lower()"
   ]
  },
  {
   "cell_type": "code",
   "execution_count": 3,
   "metadata": {},
   "outputs": [
    {
     "name": "stdout",
     "output_type": "stream",
     "text": [
      "Основные статистические характеристики\n"
     ]
    },
    {
     "data": {
      "text/html": [
       "<div>\n",
       "<style scoped>\n",
       "    .dataframe tbody tr th:only-of-type {\n",
       "        vertical-align: middle;\n",
       "    }\n",
       "\n",
       "    .dataframe tbody tr th {\n",
       "        vertical-align: top;\n",
       "    }\n",
       "\n",
       "    .dataframe thead th {\n",
       "        text-align: right;\n",
       "    }\n",
       "</style>\n",
       "<table border=\"1\" class=\"dataframe\">\n",
       "  <thead>\n",
       "    <tr style=\"text-align: right;\">\n",
       "      <th></th>\n",
       "      <th>id</th>\n",
       "      <th>number</th>\n",
       "    </tr>\n",
       "  </thead>\n",
       "  <tbody>\n",
       "    <tr>\n",
       "      <td>count</td>\n",
       "      <td>15366.000000</td>\n",
       "      <td>15366.000000</td>\n",
       "    </tr>\n",
       "    <tr>\n",
       "      <td>mean</td>\n",
       "      <td>119720.066901</td>\n",
       "      <td>59.547182</td>\n",
       "    </tr>\n",
       "    <tr>\n",
       "      <td>std</td>\n",
       "      <td>73036.130732</td>\n",
       "      <td>74.736833</td>\n",
       "    </tr>\n",
       "    <tr>\n",
       "      <td>min</td>\n",
       "      <td>838.000000</td>\n",
       "      <td>0.000000</td>\n",
       "    </tr>\n",
       "    <tr>\n",
       "      <td>25%</td>\n",
       "      <td>28524.000000</td>\n",
       "      <td>12.000000</td>\n",
       "    </tr>\n",
       "    <tr>\n",
       "      <td>50%</td>\n",
       "      <td>144974.500000</td>\n",
       "      <td>40.000000</td>\n",
       "    </tr>\n",
       "    <tr>\n",
       "      <td>75%</td>\n",
       "      <td>184262.250000</td>\n",
       "      <td>80.000000</td>\n",
       "    </tr>\n",
       "    <tr>\n",
       "      <td>max</td>\n",
       "      <td>223439.000000</td>\n",
       "      <td>1700.000000</td>\n",
       "    </tr>\n",
       "  </tbody>\n",
       "</table>\n",
       "</div>"
      ],
      "text/plain": [
       "                  id        number\n",
       "count   15366.000000  15366.000000\n",
       "mean   119720.066901     59.547182\n",
       "std     73036.130732     74.736833\n",
       "min       838.000000      0.000000\n",
       "25%     28524.000000     12.000000\n",
       "50%    144974.500000     40.000000\n",
       "75%    184262.250000     80.000000\n",
       "max    223439.000000   1700.000000"
      ]
     },
     "metadata": {},
     "output_type": "display_data"
    },
    {
     "name": "stdout",
     "output_type": "stream",
     "text": [
      "Краткий обзор набора данных\n",
      "<class 'pandas.core.frame.DataFrame'>\n",
      "RangeIndex: 15366 entries, 0 to 15365\n",
      "Data columns (total 6 columns):\n",
      "id             15366 non-null int64\n",
      "object_name    15366 non-null object\n",
      "chain          15366 non-null object\n",
      "object_type    15366 non-null object\n",
      "address        15366 non-null object\n",
      "number         15366 non-null int64\n",
      "dtypes: int64(2), object(4)\n",
      "memory usage: 720.4+ KB\n"
     ]
    },
    {
     "data": {
      "text/plain": [
       "None"
      ]
     },
     "metadata": {},
     "output_type": "display_data"
    },
    {
     "name": "stdout",
     "output_type": "stream",
     "text": [
      "Проверка на дубликаты\n"
     ]
    },
    {
     "data": {
      "text/plain": [
       "array([False])"
      ]
     },
     "metadata": {},
     "output_type": "display_data"
    }
   ],
   "source": [
    "#Проверяем данные на аномалии и ошибки\n",
    "def check_data(df):\n",
    "    print('Основные статистические характеристики')\n",
    "    display(df.describe())\n",
    "    print('Краткий обзор набора данных')\n",
    "    display(df.info())\n",
    "    print('Проверка на дубликаты')\n",
    "    display(df.duplicated().unique())\n",
    "check_data(rest_data)"
   ]
  },
  {
   "cell_type": "markdown",
   "metadata": {},
   "source": [
    "Пропущенные значения отсутствуют. Тип данных в каждой колонке - правильный."
   ]
  },
  {
   "cell_type": "code",
   "execution_count": 4,
   "metadata": {},
   "outputs": [
    {
     "data": {
      "text/html": [
       "<div>\n",
       "<style scoped>\n",
       "    .dataframe tbody tr th:only-of-type {\n",
       "        vertical-align: middle;\n",
       "    }\n",
       "\n",
       "    .dataframe tbody tr th {\n",
       "        vertical-align: top;\n",
       "    }\n",
       "\n",
       "    .dataframe thead th {\n",
       "        text-align: right;\n",
       "    }\n",
       "</style>\n",
       "<table border=\"1\" class=\"dataframe\">\n",
       "  <thead>\n",
       "    <tr style=\"text-align: right;\">\n",
       "      <th></th>\n",
       "      <th>id</th>\n",
       "      <th>object_name</th>\n",
       "      <th>chain</th>\n",
       "      <th>object_type</th>\n",
       "      <th>address</th>\n",
       "      <th>number</th>\n",
       "    </tr>\n",
       "  </thead>\n",
       "  <tbody>\n",
       "    <tr>\n",
       "      <td>2381</td>\n",
       "      <td>28611</td>\n",
       "      <td>комбинат питания мгту им.н.э.баумана</td>\n",
       "      <td>нет</td>\n",
       "      <td>столовая</td>\n",
       "      <td>город Москва, 2-я Бауманская улица, дом 5, стр...</td>\n",
       "      <td>100</td>\n",
       "    </tr>\n",
       "    <tr>\n",
       "      <td>3397</td>\n",
       "      <td>71896</td>\n",
       "      <td>буфет «коникс-школьник»</td>\n",
       "      <td>нет</td>\n",
       "      <td>буфет</td>\n",
       "      <td>город Москва, улица Удальцова, дом 21</td>\n",
       "      <td>100</td>\n",
       "    </tr>\n",
       "    <tr>\n",
       "      <td>3481</td>\n",
       "      <td>20914</td>\n",
       "      <td>буфет мади</td>\n",
       "      <td>нет</td>\n",
       "      <td>буфет</td>\n",
       "      <td>город Москва, Ленинградский проспект, дом 64</td>\n",
       "      <td>40</td>\n",
       "    </tr>\n",
       "    <tr>\n",
       "      <td>4431</td>\n",
       "      <td>23759</td>\n",
       "      <td>столовая гбоу города москвы № 384</td>\n",
       "      <td>нет</td>\n",
       "      <td>буфет</td>\n",
       "      <td>город Москва, Беловежская улица, дом 67</td>\n",
       "      <td>100</td>\n",
       "    </tr>\n",
       "    <tr>\n",
       "      <td>4537</td>\n",
       "      <td>23391</td>\n",
       "      <td>столовая «комбинат питания космос»</td>\n",
       "      <td>нет</td>\n",
       "      <td>столовая</td>\n",
       "      <td>город Москва, Новозаводская улица, дом 12/11</td>\n",
       "      <td>15</td>\n",
       "    </tr>\n",
       "    <tr>\n",
       "      <td>5059</td>\n",
       "      <td>20021</td>\n",
       "      <td>lift</td>\n",
       "      <td>нет</td>\n",
       "      <td>кафе</td>\n",
       "      <td>город Москва, Багратионовский проезд, дом 7, к...</td>\n",
       "      <td>20</td>\n",
       "    </tr>\n",
       "    <tr>\n",
       "      <td>5069</td>\n",
       "      <td>20025</td>\n",
       "      <td>lift</td>\n",
       "      <td>нет</td>\n",
       "      <td>кафе</td>\n",
       "      <td>город Москва, Багратионовский проезд, дом 7, к...</td>\n",
       "      <td>10</td>\n",
       "    </tr>\n",
       "    <tr>\n",
       "      <td>5147</td>\n",
       "      <td>145227</td>\n",
       "      <td>кафе при азс</td>\n",
       "      <td>нет</td>\n",
       "      <td>кафе</td>\n",
       "      <td>город Москва, Огородный проезд, дом 7, строение 1</td>\n",
       "      <td>0</td>\n",
       "    </tr>\n",
       "    <tr>\n",
       "      <td>5185</td>\n",
       "      <td>107442</td>\n",
       "      <td>кафе</td>\n",
       "      <td>нет</td>\n",
       "      <td>кафе</td>\n",
       "      <td>город Москва, 1-я Останкинская улица, дом 55</td>\n",
       "      <td>20</td>\n",
       "    </tr>\n",
       "    <tr>\n",
       "      <td>5186</td>\n",
       "      <td>107574</td>\n",
       "      <td>кафе</td>\n",
       "      <td>нет</td>\n",
       "      <td>кафе</td>\n",
       "      <td>город Москва, 1-я Останкинская улица, дом 55</td>\n",
       "      <td>10</td>\n",
       "    </tr>\n",
       "    <tr>\n",
       "      <td>5188</td>\n",
       "      <td>107466</td>\n",
       "      <td>кафе</td>\n",
       "      <td>нет</td>\n",
       "      <td>кафе</td>\n",
       "      <td>город Москва, 1-я Останкинская улица, дом 55</td>\n",
       "      <td>5</td>\n",
       "    </tr>\n",
       "    <tr>\n",
       "      <td>5190</td>\n",
       "      <td>107480</td>\n",
       "      <td>кафе</td>\n",
       "      <td>нет</td>\n",
       "      <td>кафе</td>\n",
       "      <td>город Москва, 1-я Останкинская улица, дом 55</td>\n",
       "      <td>5</td>\n",
       "    </tr>\n",
       "    <tr>\n",
       "      <td>5690</td>\n",
       "      <td>102011</td>\n",
       "      <td>кафе</td>\n",
       "      <td>нет</td>\n",
       "      <td>предприятие быстрого обслуживания</td>\n",
       "      <td>город Москва, Большая Семёновская улица, дом 16</td>\n",
       "      <td>5</td>\n",
       "    </tr>\n",
       "    <tr>\n",
       "      <td>5762</td>\n",
       "      <td>134324</td>\n",
       "      <td>алекс</td>\n",
       "      <td>нет</td>\n",
       "      <td>кафе</td>\n",
       "      <td>город Москва, Тихорецкий бульвар, владение 1, ...</td>\n",
       "      <td>45</td>\n",
       "    </tr>\n",
       "    <tr>\n",
       "      <td>5914</td>\n",
       "      <td>109930</td>\n",
       "      <td>павильон «кукуруза»</td>\n",
       "      <td>нет</td>\n",
       "      <td>закусочная</td>\n",
       "      <td>город Москва, Люблинская улица, дом 153</td>\n",
       "      <td>2</td>\n",
       "    </tr>\n",
       "    <tr>\n",
       "      <td>5915</td>\n",
       "      <td>109931</td>\n",
       "      <td>павильон «кукуруза»</td>\n",
       "      <td>нет</td>\n",
       "      <td>закусочная</td>\n",
       "      <td>город Москва, Люблинская улица, дом 153</td>\n",
       "      <td>2</td>\n",
       "    </tr>\n",
       "    <tr>\n",
       "      <td>5916</td>\n",
       "      <td>109997</td>\n",
       "      <td>павильон «кукуруза»</td>\n",
       "      <td>нет</td>\n",
       "      <td>закусочная</td>\n",
       "      <td>город Москва, Люблинская улица, дом 153</td>\n",
       "      <td>2</td>\n",
       "    </tr>\n",
       "    <tr>\n",
       "      <td>5917</td>\n",
       "      <td>109998</td>\n",
       "      <td>павильон «кукуруза»</td>\n",
       "      <td>нет</td>\n",
       "      <td>закусочная</td>\n",
       "      <td>город Москва, Люблинская улица, дом 153</td>\n",
       "      <td>2</td>\n",
       "    </tr>\n",
       "    <tr>\n",
       "      <td>6001</td>\n",
       "      <td>95075</td>\n",
       "      <td>лиор</td>\n",
       "      <td>нет</td>\n",
       "      <td>кафе</td>\n",
       "      <td>город Москва, Шарикоподшипниковская улица, дом...</td>\n",
       "      <td>50</td>\n",
       "    </tr>\n",
       "    <tr>\n",
       "      <td>6002</td>\n",
       "      <td>95079</td>\n",
       "      <td>лиор</td>\n",
       "      <td>нет</td>\n",
       "      <td>кафе</td>\n",
       "      <td>город Москва, Шарикоподшипниковская улица, дом...</td>\n",
       "      <td>50</td>\n",
       "    </tr>\n",
       "  </tbody>\n",
       "</table>\n",
       "</div>"
      ],
      "text/plain": [
       "          id                           object_name chain  \\\n",
       "2381   28611  комбинат питания мгту им.н.э.баумана   нет   \n",
       "3397   71896               буфет «коникс-школьник»   нет   \n",
       "3481   20914                            буфет мади   нет   \n",
       "4431   23759     столовая гбоу города москвы № 384   нет   \n",
       "4537   23391    столовая «комбинат питания космос»   нет   \n",
       "5059   20021                                  lift   нет   \n",
       "5069   20025                                  lift   нет   \n",
       "5147  145227                          кафе при азс   нет   \n",
       "5185  107442                                  кафе   нет   \n",
       "5186  107574                                  кафе   нет   \n",
       "5188  107466                                  кафе   нет   \n",
       "5190  107480                                  кафе   нет   \n",
       "5690  102011                                  кафе   нет   \n",
       "5762  134324                                 алекс   нет   \n",
       "5914  109930                   павильон «кукуруза»   нет   \n",
       "5915  109931                   павильон «кукуруза»   нет   \n",
       "5916  109997                   павильон «кукуруза»   нет   \n",
       "5917  109998                   павильон «кукуруза»   нет   \n",
       "6001   95075                                  лиор   нет   \n",
       "6002   95079                                  лиор   нет   \n",
       "\n",
       "                            object_type  \\\n",
       "2381                           столовая   \n",
       "3397                              буфет   \n",
       "3481                              буфет   \n",
       "4431                              буфет   \n",
       "4537                           столовая   \n",
       "5059                               кафе   \n",
       "5069                               кафе   \n",
       "5147                               кафе   \n",
       "5185                               кафе   \n",
       "5186                               кафе   \n",
       "5188                               кафе   \n",
       "5190                               кафе   \n",
       "5690  предприятие быстрого обслуживания   \n",
       "5762                               кафе   \n",
       "5914                         закусочная   \n",
       "5915                         закусочная   \n",
       "5916                         закусочная   \n",
       "5917                         закусочная   \n",
       "6001                               кафе   \n",
       "6002                               кафе   \n",
       "\n",
       "                                                address  number  \n",
       "2381  город Москва, 2-я Бауманская улица, дом 5, стр...     100  \n",
       "3397              город Москва, улица Удальцова, дом 21     100  \n",
       "3481       город Москва, Ленинградский проспект, дом 64      40  \n",
       "4431            город Москва, Беловежская улица, дом 67     100  \n",
       "4537       город Москва, Новозаводская улица, дом 12/11      15  \n",
       "5059  город Москва, Багратионовский проезд, дом 7, к...      20  \n",
       "5069  город Москва, Багратионовский проезд, дом 7, к...      10  \n",
       "5147  город Москва, Огородный проезд, дом 7, строение 1       0  \n",
       "5185       город Москва, 1-я Останкинская улица, дом 55      20  \n",
       "5186       город Москва, 1-я Останкинская улица, дом 55      10  \n",
       "5188       город Москва, 1-я Останкинская улица, дом 55       5  \n",
       "5190       город Москва, 1-я Останкинская улица, дом 55       5  \n",
       "5690    город Москва, Большая Семёновская улица, дом 16       5  \n",
       "5762  город Москва, Тихорецкий бульвар, владение 1, ...      45  \n",
       "5914            город Москва, Люблинская улица, дом 153       2  \n",
       "5915            город Москва, Люблинская улица, дом 153       2  \n",
       "5916            город Москва, Люблинская улица, дом 153       2  \n",
       "5917            город Москва, Люблинская улица, дом 153       2  \n",
       "6001  город Москва, Шарикоподшипниковская улица, дом...      50  \n",
       "6002  город Москва, Шарикоподшипниковская улица, дом...      50  "
      ]
     },
     "execution_count": 4,
     "metadata": {},
     "output_type": "execute_result"
    }
   ],
   "source": [
    "#Проверим дубликаты, исключив дополнительные уникальный индекс - поле id\n",
    "rest_data[rest_data.duplicated(subset = ['object_name', \n",
    "                                         'chain', \n",
    "                                         'object_type', \n",
    "                                         'address', \n",
    "                                         'number'])].head(20)"
   ]
  },
  {
   "cell_type": "code",
   "execution_count": 5,
   "metadata": {},
   "outputs": [
    {
     "data": {
      "text/plain": [
       "85"
      ]
     },
     "execution_count": 5,
     "metadata": {},
     "output_type": "execute_result"
    }
   ],
   "source": [
    "#Посчитаем, сколько дубликатов имеется\n",
    "len(rest_data[rest_data.duplicated(subset = ['object_name',\n",
    "                                             'chain', \n",
    "                                             'object_type', \n",
    "                                             'address', \n",
    "                                             'number'])])"
   ]
  },
  {
   "cell_type": "markdown",
   "metadata": {},
   "source": [
    "Дубликатов не так много. Встречаются такие, у которых различается количество посадочных мест или имя объекта. Возможная причина появления - человеческий фактор. Удалим их, оставив только первое значение в таблице."
   ]
  },
  {
   "cell_type": "code",
   "execution_count": 6,
   "metadata": {},
   "outputs": [],
   "source": [
    "rest_data.drop_duplicates(subset=['object_name', \n",
    "                                  'chain', \n",
    "                                  'object_type', \n",
    "                                  'address', \n",
    "                                  'number'],\n",
    "                                  keep='first', \n",
    "                                  inplace=True)"
   ]
  },
  {
   "cell_type": "markdown",
   "metadata": {},
   "source": [
    "## <a id='section2'>2 Анализ данных</a><br>"
   ]
  },
  {
   "cell_type": "markdown",
   "metadata": {},
   "source": [
    "### <a id='section21'>2.1 Исследование соотношения видов объектов по количеству</a><br>"
   ]
  },
  {
   "cell_type": "code",
   "execution_count": 7,
   "metadata": {},
   "outputs": [
    {
     "data": {
      "image/png": "[encoded data removed]",
      "text/plain": [
       "<Figure size 1008x504 with 1 Axes>"
      ]
     },
     "metadata": {
      "needs_background": "light"
     },
     "output_type": "display_data"
    }
   ],
   "source": [
    "#Сгруппируем данные по типу объекта\n",
    "rest_data_grouped_by_object_type = rest_data\\\n",
    "                                        .groupby('object_type')\\\n",
    "                                        .agg('count')\\\n",
    "                                        .reset_index()[['object_type', 'id']]\\\n",
    "                                        .sort_values(by='id', ascending=False)\n",
    "#Построим график\n",
    "sns.barplot(x = rest_data_grouped_by_object_type['id'],\n",
    "            y = rest_data_grouped_by_object_type['object_type'],\n",
    "            color='lightcoral')\n",
    "plt.title('Предприятия общепита по типу объекта')\n",
    "plt.xlabel('Количество объектов')\n",
    "plt.ylabel('Тип объекта')\n",
    "plt.xticks(ha='left')\n",
    "plt.show()"
   ]
  },
  {
   "cell_type": "markdown",
   "metadata": {},
   "source": [
    "Больше всего предприятий общепита являются кафе, столовыми или ресторанами."
   ]
  },
  {
   "cell_type": "markdown",
   "metadata": {},
   "source": [
    "### <a id='section22'>2.2 Исследование соотношения сетевых и несетевых заведений по количеству</a><br>"
   ]
  },
  {
   "cell_type": "code",
   "execution_count": 8,
   "metadata": {},
   "outputs": [
    {
     "data": {
      "text/html": [
       "<div>\n",
       "<style scoped>\n",
       "    .dataframe tbody tr th:only-of-type {\n",
       "        vertical-align: middle;\n",
       "    }\n",
       "\n",
       "    .dataframe tbody tr th {\n",
       "        vertical-align: top;\n",
       "    }\n",
       "\n",
       "    .dataframe thead th {\n",
       "        text-align: right;\n",
       "    }\n",
       "</style>\n",
       "<table border=\"1\" class=\"dataframe\">\n",
       "  <thead>\n",
       "    <tr style=\"text-align: right;\">\n",
       "      <th></th>\n",
       "      <th>chain</th>\n",
       "      <th>number</th>\n",
       "    </tr>\n",
       "  </thead>\n",
       "  <tbody>\n",
       "    <tr>\n",
       "      <td>0</td>\n",
       "      <td>да</td>\n",
       "      <td>2964</td>\n",
       "    </tr>\n",
       "    <tr>\n",
       "      <td>1</td>\n",
       "      <td>нет</td>\n",
       "      <td>12317</td>\n",
       "    </tr>\n",
       "  </tbody>\n",
       "</table>\n",
       "</div>"
      ],
      "text/plain": [
       "  chain  number\n",
       "0    да    2964\n",
       "1   нет   12317"
      ]
     },
     "execution_count": 8,
     "metadata": {},
     "output_type": "execute_result"
    }
   ],
   "source": [
    "#Сгруппируем сетевые и несетевые заведения\n",
    "rest_data_grouped_by_chain = rest_data\\\n",
    "                                    .groupby('chain')\\\n",
    "                                    .agg('count')\\\n",
    "                                    .reset_index()[['chain', 'number']]\n",
    "rest_data_grouped_by_chain.head()"
   ]
  },
  {
   "cell_type": "code",
   "execution_count": 9,
   "metadata": {},
   "outputs": [
    {
     "data": {
      "image/png": "[encoded data removed]",
      "text/plain": [
       "<Figure size 1008x504 with 1 Axes>"
      ]
     },
     "metadata": {},
     "output_type": "display_data"
    }
   ],
   "source": [
    "#Построим график соотношения\n",
    "labels = ['Сетевые', 'Несетевые']\n",
    "plt.pie(data=rest_data_grouped_by_chain,\n",
    "        x='number', \n",
    "        autopct=\"%.1f%%\",\n",
    "        labels=labels,\n",
    "        pctdistance=0.5)\n",
    "plt.title('Соотношение предприятий общепита по сетевому признаку')\n",
    "plt.show()"
   ]
  },
  {
   "cell_type": "markdown",
   "metadata": {},
   "source": [
    "Несетевых объектов значительно больше. Это говорит о разнообразии вкусов населения и высоком уровне присутствия малого бизнеса в этой сфере."
   ]
  },
  {
   "cell_type": "code",
   "execution_count": 10,
   "metadata": {},
   "outputs": [
    {
     "data": {
      "image/png": "[encoded data removed]",
      "text/plain": [
       "<Figure size 1008x504 with 1 Axes>"
      ]
     },
     "metadata": {
      "needs_background": "light"
     },
     "output_type": "display_data"
    }
   ],
   "source": [
    "#Сгруппируем данные по сетевому признаку и типам объекта\n",
    "rest_data_grouped_by_chain_and_object_type = rest_data\\\n",
    "                                            .groupby(['chain', 'object_type'])\\\n",
    "                                            .agg('count')\\\n",
    "                                            .reset_index()[['chain', 'object_type', 'number']]\n",
    "#Построим график\n",
    "sns.barplot(x=\"number\", \n",
    "            y=\"object_type\",\n",
    "            hue=\"chain\",\n",
    "            data=rest_data_grouped_by_chain_and_object_type)\n",
    "plt.xticks(ha='left')\n",
    "plt.title('Предприятия общепита по сетевому признаку и типу объекта')\n",
    "plt.xlabel('Количество объектов')\n",
    "plt.ylabel('Тип объекта')\n",
    "plt.legend(title='Входят в сеть:')\n",
    "plt.show()"
   ]
  },
  {
   "cell_type": "code",
   "execution_count": 11,
   "metadata": {},
   "outputs": [
    {
     "data": {
      "image/png": "[encoded data removed]",
      "text/plain": [
       "<Figure size 1008x504 with 1 Axes>"
      ]
     },
     "metadata": {
      "needs_background": "light"
     },
     "output_type": "display_data"
    }
   ],
   "source": [
    "#Определим относительное распространение сетевых заведений для каждого типа объекта\n",
    "chain_yes = rest_data_grouped_by_chain_and_object_type[rest_data_grouped_by_chain_and_object_type['chain'] == 'да']\n",
    "chain_no = rest_data_grouped_by_chain_and_object_type[rest_data_grouped_by_chain_and_object_type['chain'] == 'нет']\n",
    "chain_type_comparison = chain_yes[['object_type', 'number']]\\\n",
    "                            .merge(chain_no[['object_type', 'number']],\n",
    "                                   on ='object_type',\n",
    "                                   suffixes=('_chain_yes', '_chain_no'))\n",
    "chain_type_comparison['chain_ratio'] = (chain_type_comparison['number_chain_yes']\\\n",
    "                                        / (chain_type_comparison['number_chain_no'] + chain_type_comparison['number_chain_yes']) )\n",
    "chain_type_comparison = chain_type_comparison.set_index('object_type')\n",
    "chain_type_comparison['no_chain_ratio'] = 1 - chain_type_comparison['chain_ratio']\n",
    "chain = chain_type_comparison[['chain_ratio', 'no_chain_ratio']].cumsum(axis=1)\n",
    "#Построим график\n",
    "f, ax = plt.subplots()\n",
    "sns.barplot(x = chain['no_chain_ratio'], y = chain.index, label='chain_no_ratio', color='thistle')\n",
    "sns.barplot(x = chain['chain_ratio'], y = chain.index, label='chain_ratio', color='mediumorchid')\n",
    "sns.despine(left=True, bottom=True)\n",
    "plt.title('Доля сетевых заведений для каждого типа объекта')\n",
    "plt.xlabel('Относительная доля сетевых заведений от общего количества')\n",
    "plt.ylabel('Тип объекта')\n",
    "plt.show()"
   ]
  },
  {
   "cell_type": "markdown",
   "metadata": {},
   "source": [
    "Среди лидеров по доле сетевых заведений - предприятия быстрого обслуживания, магазин(отдел кулинарии), рестораны и кафе. Меньше всего сетевых заведений среди столовых. Чем обусловлены эти различия? Вероятно, это связано с тем, что специфика работа столовых - низкая цена и наиболее привычные блюда. С таким предложением сложно построить бренд, масштабировать его, поэтому эти заведения не входят в сети. У предприятий быстрого обслуживания же как правило сетевая структура с уникальным комбинированным предложением блюд. Часто, они развиваются по модели франшизы."
   ]
  },
  {
   "cell_type": "markdown",
   "metadata": {},
   "source": [
    "### <a id='section23'>2.3 Описание среднего количества посадочных мест</a><br>"
   ]
  },
  {
   "cell_type": "code",
   "execution_count": 12,
   "metadata": {},
   "outputs": [
    {
     "data": {
      "image/png": "[encoded data removed]",
      "text/plain": [
       "<Figure size 1008x504 with 1 Axes>"
      ]
     },
     "metadata": {
      "needs_background": "light"
     },
     "output_type": "display_data"
    }
   ],
   "source": [
    "#Сгруппируем данные по типу объекта, чтобы найти среднее количество посадочных мест\n",
    "rest_data_grouped_by_object_type_mean = rest_data\\\n",
    "                                        .groupby('object_type')\\\n",
    "                                        .agg('mean')\\\n",
    "                                        .reset_index()[['object_type', 'number']]\\\n",
    "                                        .sort_values(by='number', ascending=False)\n",
    "#Построим график\n",
    "sns.barplot(x = rest_data_grouped_by_object_type_mean['number'],\n",
    "            y = rest_data_grouped_by_object_type_mean['object_type'],\n",
    "            color='lightcoral')\n",
    "plt.xticks(ha='left')\n",
    "plt.title('Среднее количество посадочных мест по типам объекта')\n",
    "plt.xlabel('Количество посадочных мест')\n",
    "plt.ylabel('Тип объекта')\n",
    "plt.show()"
   ]
  },
  {
   "cell_type": "markdown",
   "metadata": {},
   "source": [
    "Среди заведений наиболее интересны в аспекте наибольшего среднего количества посадочных мест - столовые, рестораны, буфеты, бары, кафе. Кафе, рестораны, столовые имеют собственные кухни и рассчитаны на большую проходимость клиентов, которые не забирают еду на вынос и планируют принимать пищу в течение продолжительного времени( в сравнении, например, с предприятиями быстрого обслуживания). Бары в свою очередь - место отдыха для компаний людей. Туда приходят для общения и проводят в них также достаточно много времени. Буфеты, как и столовые, имеют много посадочных мест в т.ч. и потому, что заполняются посетителями в какие-то пиковые часы, например обеденное время для работников офисов/предприятий поблизости."
   ]
  },
  {
   "cell_type": "code",
   "execution_count": 13,
   "metadata": {},
   "outputs": [
    {
     "data": {
      "text/plain": [
       "40.0"
      ]
     },
     "execution_count": 13,
     "metadata": {},
     "output_type": "execute_result"
    }
   ],
   "source": [
    "#Определим наиболее распространенное количество посадочных мест у несетевых заведений\n",
    "np.median(rest_data[rest_data['chain'] == 'нет']['number'])"
   ]
  },
  {
   "cell_type": "code",
   "execution_count": 14,
   "metadata": {},
   "outputs": [
    {
     "data": {
      "text/plain": [
       "43.5"
      ]
     },
     "execution_count": 14,
     "metadata": {},
     "output_type": "execute_result"
    }
   ],
   "source": [
    "#Определим наиболее распространенное количество посадочных мест у сетей\n",
    "np.median(rest_data[rest_data['chain'] == 'да']\\\n",
    "          .groupby('object_name')[['number']]\\\n",
    "          .agg('median'))"
   ]
  },
  {
   "cell_type": "code",
   "execution_count": 15,
   "metadata": {},
   "outputs": [
    {
     "data": {
      "text/plain": [
       "1    331\n",
       "2     77\n",
       "3     45\n",
       "6     23\n",
       "5     17\n",
       "Name: id, dtype: int64"
      ]
     },
     "execution_count": 15,
     "metadata": {},
     "output_type": "execute_result"
    }
   ],
   "source": [
    "#Определим, сколько в среднем заведений входит в сеть\n",
    "rest_data[rest_data['chain'] == 'да']\\\n",
    "                .groupby('object_name')[['id']]\\\n",
    "                .agg('count').reset_index()['id']\\\n",
    "                .value_counts()[:5]"
   ]
  },
  {
   "cell_type": "markdown",
   "metadata": {},
   "source": [
    "Посадочных мест у сетевых заведений больше, чем у несетевых. В сети обычно входит немного заведений."
   ]
  },
  {
   "cell_type": "code",
   "execution_count": 16,
   "metadata": {},
   "outputs": [
    {
     "data": {
      "image/png": "[encoded data removed]",
      "text/plain": [
       "<Figure size 1008x504 with 1 Axes>"
      ]
     },
     "metadata": {
      "needs_background": "light"
     },
     "output_type": "display_data"
    }
   ],
   "source": [
    "#Построим график, чтобы посмотреть сколько заведений входят в сети и сколько они имеют посадочных мест\n",
    "chain_yes_data_pivoted = pd.pivot_table(rest_data[rest_data['chain'] == 'да'],\n",
    "                                      values=['id', 'number'],\n",
    "                                      index='object_name',\n",
    "                                      aggfunc={'id': 'count', 'number': 'mean'}).reset_index()\n",
    "sns.scatterplot(data=chain_yes_data_pivoted,\n",
    "                x='number',\n",
    "                y='id', \n",
    "                color=\"slateblue\",\n",
    "                alpha=0.3)\n",
    "plt.title('Среднее количество посадочных мест у сетей')\n",
    "plt.xlabel('Среднее количество посадочных мест')\n",
    "plt.ylabel('Количество объектов в сети')\n",
    "plt.ylim(0, 50)\n",
    "plt.xlim(0, 150)\n",
    "plt.show()"
   ]
  },
  {
   "cell_type": "markdown",
   "metadata": {},
   "source": [
    "Многие сети включают только 1 заведение. Это могут быть франшизы, распространяемые под разными ИП. При более скрупулезном анализе их следует исключить, как и те, которые имеют 0 посадочных мест."
   ]
  },
  {
   "cell_type": "code",
   "execution_count": 17,
   "metadata": {},
   "outputs": [
    {
     "data": {
      "image/png": "[encoded data removed]",
      "text/plain": [
       "<Figure size 1008x504 with 1 Axes>"
      ]
     },
     "metadata": {
      "needs_background": "light"
     },
     "output_type": "display_data"
    }
   ],
   "source": [
    "#Сгруппируем данные по типу объекта и сетевому признаку, чтобы найти среднее количество посадочных мест для этих групп\n",
    "rest_data_grouped_by_object_type_and_chain_mean = rest_data\\\n",
    "                                                    .groupby(['chain', 'object_type'])\\\n",
    "                                                    .agg('mean')\\\n",
    "                                                    .reset_index()[['chain', 'object_type', 'number']]\n",
    "#Построим график\n",
    "sns.barplot(data = rest_data_grouped_by_object_type_and_chain_mean,\n",
    "            x = 'number',\n",
    "            y='object_type',\n",
    "            hue='chain')\n",
    "plt.xticks(ha='left')\n",
    "plt.title('Среднее количество посадочных мест по типу объекта и сетевому признаку')\n",
    "plt.xlabel('Количество посадочных мест')\n",
    "plt.ylabel('Тип объекта')\n",
    "plt.legend(title='Входят в сеть:')\n",
    "plt.show()"
   ]
  },
  {
   "cell_type": "markdown",
   "metadata": {},
   "source": [
    "Обычно, у сетевых заведений больше посадочных мест, чем у несетевых. Это может быть связано с тем, что у них более продуманная экономика и формат заведений, поэтому они больше и приносят больше прибыли. Иначе обстоит ситуация со столовыми и буфетами - у несетевых заведений больше посадочных мест. Большие столовые и буфеты могут находиться рядом (или внутри) с крупными бизнес-центрами или местами для организациями культурно-массовых мероприятий. Это может быть объяснением, почему они несетевые: здесь могут иметь значение как возможность аренды помещения для такого заведения, так и нестандартный для сетевых столовых/буфетов масштаб предоставления услуг."
   ]
  },
  {
   "cell_type": "markdown",
   "metadata": {},
   "source": [
    "### <a id='section24'>2.4 Выделение информации об улице (из столбца address)</a><br>"
   ]
  },
  {
   "cell_type": "code",
   "execution_count": 18,
   "metadata": {},
   "outputs": [
    {
     "data": {
      "text/html": [
       "<div>\n",
       "<style scoped>\n",
       "    .dataframe tbody tr th:only-of-type {\n",
       "        vertical-align: middle;\n",
       "    }\n",
       "\n",
       "    .dataframe tbody tr th {\n",
       "        vertical-align: top;\n",
       "    }\n",
       "\n",
       "    .dataframe thead th {\n",
       "        text-align: right;\n",
       "    }\n",
       "</style>\n",
       "<table border=\"1\" class=\"dataframe\">\n",
       "  <thead>\n",
       "    <tr style=\"text-align: right;\">\n",
       "      <th></th>\n",
       "      <th>address</th>\n",
       "      <th>street</th>\n",
       "    </tr>\n",
       "  </thead>\n",
       "  <tbody>\n",
       "    <tr>\n",
       "      <td>0</td>\n",
       "      <td>город Москва, улица Егора Абакумова, дом 9</td>\n",
       "      <td>улица Егора Абакумова</td>\n",
       "    </tr>\n",
       "    <tr>\n",
       "      <td>1</td>\n",
       "      <td>город Москва, улица Талалихина, дом 2/1, корпус 1</td>\n",
       "      <td>улица Талалихина</td>\n",
       "    </tr>\n",
       "    <tr>\n",
       "      <td>2</td>\n",
       "      <td>город Москва, Абельмановская улица, дом 6</td>\n",
       "      <td>Абельмановская улица</td>\n",
       "    </tr>\n",
       "    <tr>\n",
       "      <td>3</td>\n",
       "      <td>город Москва, Абрамцевская улица, дом 1</td>\n",
       "      <td>Абрамцевская улица</td>\n",
       "    </tr>\n",
       "    <tr>\n",
       "      <td>4</td>\n",
       "      <td>город Москва, Абрамцевская улица, дом 9, корпус 1</td>\n",
       "      <td>Абрамцевская улица</td>\n",
       "    </tr>\n",
       "  </tbody>\n",
       "</table>\n",
       "</div>"
      ],
      "text/plain": [
       "                                             address                 street\n",
       "0         город Москва, улица Егора Абакумова, дом 9  улица Егора Абакумова\n",
       "1  город Москва, улица Талалихина, дом 2/1, корпус 1       улица Талалихина\n",
       "2          город Москва, Абельмановская улица, дом 6   Абельмановская улица\n",
       "3            город Москва, Абрамцевская улица, дом 1     Абрамцевская улица\n",
       "4  город Москва, Абрамцевская улица, дом 9, корпус 1     Абрамцевская улица"
      ]
     },
     "execution_count": 18,
     "metadata": {},
     "output_type": "execute_result"
    }
   ],
   "source": [
    "#Напишем функцию, которая будет разделять адрес по запятым и доставать название улицы, для каждой строки в датафрейме\n",
    "def street_finder(df):\n",
    "    address = df['address']\n",
    "    streets = ['улица','проспект','переулок', 'шоссе','бульвар',\n",
    "                'проезд', 'площадь','набережная','территория', 'аллея']\n",
    "    index = address.count(',')\n",
    "    for i in range(len(df)):\n",
    "        for j in streets:\n",
    "            for k in range(index):\n",
    "                if j in address.split(', ')[k]:\n",
    "                    return address.split(', ')[k]\n",
    "#Создадим новый столбец, получив названия улиц функцией\n",
    "rest_data['street'] = rest_data.apply(street_finder, axis=1)\n",
    "rest_data[['address', 'street']].head()"
   ]
  },
  {
   "cell_type": "code",
   "execution_count": 19,
   "metadata": {},
   "outputs": [
    {
     "name": "stdout",
     "output_type": "stream",
     "text": [
      "<class 'pandas.core.frame.DataFrame'>\n",
      "Int64Index: 15281 entries, 0 to 15365\n",
      "Data columns (total 7 columns):\n",
      "id             15281 non-null int64\n",
      "object_name    15281 non-null object\n",
      "chain          15281 non-null object\n",
      "object_type    15281 non-null object\n",
      "address        15281 non-null object\n",
      "number         15281 non-null int64\n",
      "street         14891 non-null object\n",
      "dtypes: int64(2), object(5)\n",
      "memory usage: 955.1+ KB\n"
     ]
    }
   ],
   "source": [
    "#Посмотрим, сколько значений не удалось достать\n",
    "rest_data.info()"
   ]
  },
  {
   "cell_type": "code",
   "execution_count": 20,
   "metadata": {},
   "outputs": [],
   "source": [
    "#Удалим NA значения улиц из датафрейма\n",
    "rest_data_filtered = rest_data[~rest_data['street'].isna()]"
   ]
  },
  {
   "cell_type": "code",
   "execution_count": 21,
   "metadata": {},
   "outputs": [
    {
     "name": "stdout",
     "output_type": "stream",
     "text": [
      "Количество улиц, где размещены 14976 объектов общепита: 1887\n"
     ]
    }
   ],
   "source": [
    "print('Количество улиц, где размещены 14976 объектов общепита:',\\\n",
    "      len(rest_data_filtered.groupby('street').agg('count')))"
   ]
  },
  {
   "cell_type": "markdown",
   "metadata": {},
   "source": [
    "### <a id='section25'>2.5 Построение графика топ-10 улиц</a><br>"
   ]
  },
  {
   "cell_type": "code",
   "execution_count": 22,
   "metadata": {
    "scrolled": false
   },
   "outputs": [
    {
     "data": {
      "image/png": "[encoded data removed]",
      "text/plain": [
       "<Figure size 1008x504 with 1 Axes>"
      ]
     },
     "metadata": {
      "needs_background": "light"
     },
     "output_type": "display_data"
    }
   ],
   "source": [
    "#Сгруппируем данные по улицам\n",
    "streets_grouped = rest_data_filtered\\\n",
    "                        .groupby('street')\\\n",
    "                        .agg('count')\\\n",
    "                        .reset_index()[['street', 'id']]\n",
    "#Найдем 10 улиц с самым большом количеством объектов\n",
    "top_10_streets = streets_grouped.sort_values(by='id', ascending=False)[:10]\n",
    "#Построим график\n",
    "sns.barplot(x = 'id',\n",
    "            y = 'street',\n",
    "            data=top_10_streets,\n",
    "            color='greenyellow')\n",
    "plt.xticks(ha='left')\n",
    "plt.title('Топ 10 улиц по количеству объектов общепита')\n",
    "plt.xlabel('Количество объектов общепита')\n",
    "plt.ylabel('Улица')\n",
    "plt.show()"
   ]
  },
  {
   "cell_type": "markdown",
   "metadata": {},
   "source": [
    "Ожидаемо, что больше всего объектов общепита размещены в центральной части города, на улицах где есть много домов."
   ]
  },
  {
   "cell_type": "code",
   "execution_count": 23,
   "metadata": {},
   "outputs": [
    {
     "data": {
      "text/html": [
       "<div>\n",
       "<style scoped>\n",
       "    .dataframe tbody tr th:only-of-type {\n",
       "        vertical-align: middle;\n",
       "    }\n",
       "\n",
       "    .dataframe tbody tr th {\n",
       "        vertical-align: top;\n",
       "    }\n",
       "\n",
       "    .dataframe thead th {\n",
       "        text-align: right;\n",
       "    }\n",
       "</style>\n",
       "<table border=\"1\" class=\"dataframe\">\n",
       "  <thead>\n",
       "    <tr style=\"text-align: right;\">\n",
       "      <th></th>\n",
       "      <th>streetname</th>\n",
       "      <th>areaid</th>\n",
       "      <th>okrug</th>\n",
       "      <th>area</th>\n",
       "    </tr>\n",
       "  </thead>\n",
       "  <tbody>\n",
       "    <tr>\n",
       "      <td>0</td>\n",
       "      <td>Выставочный переулок</td>\n",
       "      <td>17</td>\n",
       "      <td>ЦАО</td>\n",
       "      <td>Пресненский район</td>\n",
       "    </tr>\n",
       "    <tr>\n",
       "      <td>1</td>\n",
       "      <td>улица Гашека</td>\n",
       "      <td>17</td>\n",
       "      <td>ЦАО</td>\n",
       "      <td>Пресненский район</td>\n",
       "    </tr>\n",
       "    <tr>\n",
       "      <td>2</td>\n",
       "      <td>Большая Никитская улица</td>\n",
       "      <td>17</td>\n",
       "      <td>ЦАО</td>\n",
       "      <td>Пресненский район</td>\n",
       "    </tr>\n",
       "    <tr>\n",
       "      <td>3</td>\n",
       "      <td>Глубокий переулок</td>\n",
       "      <td>17</td>\n",
       "      <td>ЦАО</td>\n",
       "      <td>Пресненский район</td>\n",
       "    </tr>\n",
       "    <tr>\n",
       "      <td>4</td>\n",
       "      <td>Большой Гнездниковский переулок</td>\n",
       "      <td>17</td>\n",
       "      <td>ЦАО</td>\n",
       "      <td>Пресненский район</td>\n",
       "    </tr>\n",
       "    <tr>\n",
       "      <td>...</td>\n",
       "      <td>...</td>\n",
       "      <td>...</td>\n",
       "      <td>...</td>\n",
       "      <td>...</td>\n",
       "    </tr>\n",
       "    <tr>\n",
       "      <td>4393</td>\n",
       "      <td>Вознесенский проезд</td>\n",
       "      <td>17</td>\n",
       "      <td>ЦАО</td>\n",
       "      <td>Пресненский район</td>\n",
       "    </tr>\n",
       "    <tr>\n",
       "      <td>4394</td>\n",
       "      <td>Волков переулок</td>\n",
       "      <td>17</td>\n",
       "      <td>ЦАО</td>\n",
       "      <td>Пресненский район</td>\n",
       "    </tr>\n",
       "    <tr>\n",
       "      <td>4395</td>\n",
       "      <td>Поварская улица</td>\n",
       "      <td>17</td>\n",
       "      <td>ЦАО</td>\n",
       "      <td>Пресненский район</td>\n",
       "    </tr>\n",
       "    <tr>\n",
       "      <td>4396</td>\n",
       "      <td>Кудринская площадь</td>\n",
       "      <td>17</td>\n",
       "      <td>ЦАО</td>\n",
       "      <td>Пресненский район</td>\n",
       "    </tr>\n",
       "    <tr>\n",
       "      <td>4397</td>\n",
       "      <td>Вспольный переулок</td>\n",
       "      <td>17</td>\n",
       "      <td>ЦАО</td>\n",
       "      <td>Пресненский район</td>\n",
       "    </tr>\n",
       "  </tbody>\n",
       "</table>\n",
       "<p>4398 rows × 4 columns</p>\n",
       "</div>"
      ],
      "text/plain": [
       "                           streetname  areaid okrug               area\n",
       "0                Выставочный переулок      17   ЦАО  Пресненский район\n",
       "1                        улица Гашека      17   ЦАО  Пресненский район\n",
       "2             Большая Никитская улица      17   ЦАО  Пресненский район\n",
       "3                   Глубокий переулок      17   ЦАО  Пресненский район\n",
       "4     Большой Гнездниковский переулок      17   ЦАО  Пресненский район\n",
       "...                               ...     ...   ...                ...\n",
       "4393              Вознесенский проезд      17   ЦАО  Пресненский район\n",
       "4394                  Волков переулок      17   ЦАО  Пресненский район\n",
       "4395                  Поварская улица      17   ЦАО  Пресненский район\n",
       "4396               Кудринская площадь      17   ЦАО  Пресненский район\n",
       "4397               Вспольный переулок      17   ЦАО  Пресненский район\n",
       "\n",
       "[4398 rows x 4 columns]"
      ]
     },
     "execution_count": 23,
     "metadata": {},
     "output_type": "execute_result"
    }
   ],
   "source": [
    "streets_and_areas"
   ]
  },
  {
   "cell_type": "code",
   "execution_count": 24,
   "metadata": {},
   "outputs": [
    {
     "data": {
      "text/html": [
       "<div>\n",
       "<style scoped>\n",
       "    .dataframe tbody tr th:only-of-type {\n",
       "        vertical-align: middle;\n",
       "    }\n",
       "\n",
       "    .dataframe tbody tr th {\n",
       "        vertical-align: top;\n",
       "    }\n",
       "\n",
       "    .dataframe thead th {\n",
       "        text-align: right;\n",
       "    }\n",
       "</style>\n",
       "<table border=\"1\" class=\"dataframe\">\n",
       "  <thead>\n",
       "    <tr style=\"text-align: right;\">\n",
       "      <th></th>\n",
       "      <th>street</th>\n",
       "      <th>area</th>\n",
       "    </tr>\n",
       "  </thead>\n",
       "  <tbody>\n",
       "    <tr>\n",
       "      <td>0</td>\n",
       "      <td>улица Егора Абакумова</td>\n",
       "      <td>Ярославский Район</td>\n",
       "    </tr>\n",
       "    <tr>\n",
       "      <td>1</td>\n",
       "      <td>улица Талалихина</td>\n",
       "      <td>Район Южное Бутово</td>\n",
       "    </tr>\n",
       "    <tr>\n",
       "      <td>2</td>\n",
       "      <td>Абельмановская улица</td>\n",
       "      <td>Таганский район</td>\n",
       "    </tr>\n",
       "    <tr>\n",
       "      <td>3</td>\n",
       "      <td>Абрамцевская улица</td>\n",
       "      <td>Район Лианозово</td>\n",
       "    </tr>\n",
       "    <tr>\n",
       "      <td>4</td>\n",
       "      <td>Абрамцевская улица</td>\n",
       "      <td>Район Лианозово</td>\n",
       "    </tr>\n",
       "  </tbody>\n",
       "</table>\n",
       "</div>"
      ],
      "text/plain": [
       "                  street                area\n",
       "0  улица Егора Абакумова   Ярославский Район\n",
       "1       улица Талалихина  Район Южное Бутово\n",
       "2   Абельмановская улица     Таганский район\n",
       "3     Абрамцевская улица     Район Лианозово\n",
       "4     Абрамцевская улица     Район Лианозово"
      ]
     },
     "execution_count": 24,
     "metadata": {},
     "output_type": "execute_result"
    }
   ],
   "source": [
    "#Создадим словать из названий улиц и районов, используя второй датафрейм streets_and_areas\n",
    "area_dict = dict(zip(streets_and_areas['streetname'], streets_and_areas['area']))\n",
    "#Добавим к каждому наблюдению в первый датафрейм значение из словаря. Другими словами, определим для каждой улицы район\n",
    "rest_data_filtered['area'] = rest_data_filtered['street'].map(area_dict)\n",
    "#Удалим строки с NA значениями в столбце area \n",
    "rest_data_filtered = rest_data_filtered.dropna(subset=['area'])\n",
    "rest_data_filtered[['street', 'area']].head()"
   ]
  },
  {
   "cell_type": "code",
   "execution_count": 25,
   "metadata": {
    "scrolled": false
   },
   "outputs": [
    {
     "data": {
      "image/png": "[encoded data removed]",
      "text/plain": [
       "<Figure size 1008x504 with 1 Axes>"
      ]
     },
     "metadata": {
      "needs_background": "light"
     },
     "output_type": "display_data"
    }
   ],
   "source": [
    "#Отфильтруем данные, оставив наблюдения с топ-10 улицами по количеству объектов\n",
    "rest_data_filtered_top_10_streets = rest_data_filtered[rest_data_filtered['street']\\\n",
    "                                                       .isin(top_10_streets['street'])]\n",
    "#Сгруппируем данные по районам\n",
    "rest_data_filtered_top_streets_grouped = rest_data_filtered_top_10_streets\\\n",
    "                                                .groupby('area')\\\n",
    "                                                .agg('count')\\\n",
    "                                                .reset_index()[['area', 'id']]\\\n",
    "                                                .sort_values(by='id', ascending=False)\n",
    "#Построим график топ районов, в которых находятся топ 10 улиц \n",
    "sns.barplot(data = rest_data_filtered_top_streets_grouped, \n",
    "              x='id', \n",
    "              y='area',\n",
    "              color='greenyellow')\n",
    "plt.xticks(ha='left')\n",
    "plt.title('Топ 10 районов по количеству объектов общепита')\n",
    "plt.xlabel('Количество объектов общепита')\n",
    "plt.ylabel('Район')\n",
    "plt.show()"
   ]
  },
  {
   "cell_type": "markdown",
   "metadata": {},
   "source": [
    "Больше всего объектов в районах, которые находятся в центре или незначительно удалены от него."
   ]
  },
  {
   "cell_type": "markdown",
   "metadata": {},
   "source": [
    "### <a id='section26'>2.6 Поиск числа улиц с одним объектом общественного питания</a><br>"
   ]
  },
  {
   "cell_type": "code",
   "execution_count": 26,
   "metadata": {},
   "outputs": [
    {
     "name": "stdout",
     "output_type": "stream",
     "text": [
      "Всего 539 улиц с одним объектом общественного питания\n",
      "Это составляет 28.56% от общего количества улиц\n"
     ]
    }
   ],
   "source": [
    "#Определим сколько улиц имеют один объект общепита\n",
    "bottom_streets = streets_grouped[streets_grouped['id'] == 1]\n",
    "print('Всего', len(bottom_streets), 'улиц с одним объектом общественного питания')\n",
    "print('Это составляет {:.2%}'.format(len(bottom_streets)/len(streets_grouped)), 'от общего количества улиц' )"
   ]
  },
  {
   "cell_type": "code",
   "execution_count": 27,
   "metadata": {},
   "outputs": [
    {
     "data": {
      "image/png": "[encoded data removed]",
      "text/plain": [
       "<Figure size 1008x504 with 1 Axes>"
      ]
     },
     "metadata": {
      "needs_background": "light"
     },
     "output_type": "display_data"
    }
   ],
   "source": [
    "#Отфильтруем данные, оставив наблюдения с улицами, где есть только один объект общепита\n",
    "rest_data_filtered_bottom_streets = rest_data_filtered[rest_data_filtered['street']\\\n",
    "                                                       .isin(bottom_streets['street'])]\n",
    "#Сгруппируем данные по районам\n",
    "rest_data_filtered_bottom_streets_grouped = rest_data_filtered_bottom_streets\\\n",
    "                                                .groupby('area')\\\n",
    "                                                .agg('count')\\\n",
    "                                                .reset_index()[['area', 'id']]\\\n",
    "                                                .sort_values(by='id', ascending=False)[:10]\n",
    "#Построим график\n",
    "sns.barplot(data = rest_data_filtered_bottom_streets_grouped,\n",
    "            x = 'id',\n",
    "            y='area',\n",
    "            color='sandybrown')\n",
    "plt.xticks(ha='left')\n",
    "plt.title('Топ 10 районов, где больше всего улиц с одним объектом общепита')\n",
    "plt.xlabel('Количество улиц с одним объектом общепита')\n",
    "plt.ylabel('Район')\n",
    "plt.show()"
   ]
  },
  {
   "cell_type": "markdown",
   "metadata": {},
   "source": [
    "Больше всего улиц с 1 заведением общепита там, где слишком дорогая аренда. Содержать заведение в таком месте может оказаться нерентабельным. Размеры улиц в центре также небольшие."
   ]
  },
  {
   "cell_type": "markdown",
   "metadata": {},
   "source": [
    "### <a id='section27'>2.7 Анализ распределения посадочных мест для улиц с большим количеством объектов</a><br>"
   ]
  },
  {
   "cell_type": "code",
   "execution_count": 28,
   "metadata": {},
   "outputs": [
    {
     "name": "stdout",
     "output_type": "stream",
     "text": [
      "1498 объектов общепита находится на топ-10 улицах\n"
     ]
    }
   ],
   "source": [
    "#Определим, сколько всего объектов находится на топ-10 улицах\n",
    "top_streets_list = pd.unique(top_10_streets['street']).tolist()\n",
    "rest_data_top_streets = rest_data[rest_data['street'].isin(top_streets_list)]\n",
    "rest_data_other_streets = rest_data[~rest_data['street'].isin(top_streets_list)]\n",
    "print(len(rest_data_top_streets), 'объектов общепита находится на топ-10 улицах')"
   ]
  },
  {
   "cell_type": "code",
   "execution_count": 29,
   "metadata": {},
   "outputs": [
    {
     "data": {
      "image/png": "[encoded data removed]",
      "text/plain": [
       "<Figure size 648x432 with 2 Axes>"
      ]
     },
     "metadata": {
      "needs_background": "light"
     },
     "output_type": "display_data"
    }
   ],
   "source": [
    "#Определим, как распределяются посадочные места по типам объектов для топ-10 улиц\n",
    "#Создадим сводную таблицу, посчитав средние значения для разных типов объектв на топ-10 улицах\n",
    "rest_data_top_streets_number = pd.pivot_table(rest_data_top_streets,\n",
    "                                      values=['number'],\n",
    "                                      index='object_type',\n",
    "                                      aggfunc={'number': 'mean'}).reset_index()\n",
    "rest_data_top_streets_number.columns = ['object_type', 'number_top_streets']\n",
    "#Создадим сводную таблицу, посчитав средние значения для разных типов объектов на других улицах\n",
    "rest_data_other_streets_number = pd.pivot_table(rest_data_other_streets,\n",
    "                                      values=['id', 'number'],\n",
    "                                      index='object_type',\n",
    "                                      aggfunc={'number': 'mean'}).reset_index()\n",
    "#Соединим полученные сводные таблицы для дальнейшего сравнения\n",
    "rest_data_top_streets_number = rest_data_top_streets_number\\\n",
    "                                    .merge(rest_data_other_streets_number[['object_type','number']],\\\n",
    "                                    on='object_type')\n",
    "#Построим график сравнения\n",
    "g = sns.PairGrid(rest_data_top_streets_number,\n",
    "                 x_vars=['number', 'number_top_streets'], \n",
    "                 y_vars=[\"object_type\"],\n",
    "                 height=6, \n",
    "                 aspect=.75)\n",
    "g.map(sns.stripplot, size=10, orient=\"h\",  color='darkorchid', linewidth=1, edgecolor=\"w\")\n",
    "g.set(xlim=(0,150), xlabel=\"Количество\", ylabel=\"\")\n",
    "titles = [\"В среднем посадочных мест\", \"В среднем посадочных мест на топ-10 улицах\"]\n",
    "for ax, title in zip(g.axes.flat, titles):\n",
    "    ax.set(title=title)\n",
    "    ax.xaxis.grid(False)\n",
    "    ax.yaxis.grid(True)\n",
    "sns.despine(left=True, bottom=True)\n",
    "plt.show()"
   ]
  },
  {
   "cell_type": "markdown",
   "metadata": {},
   "source": [
    "Обычно, на топ-10 улицах больше посадочных мест, чем в среднем по городу. Это говорит о большей проходимости этих мест. Исключения составляют буфеты - на этих улицах, они меньше. Особенно выделяются бары и магазины(отдел кулинарии). Вечером в центр города люди могут приезжать и из других районов."
   ]
  },
  {
   "cell_type": "markdown",
   "metadata": {},
   "source": [
    "### <a id='section28'>2.8 Формулирование общего вывода, рекомендаций, комментариев</a><br>"
   ]
  },
  {
   "cell_type": "markdown",
   "metadata": {},
   "source": [
    "#### Общий вывод и комментарии\n",
    "\n",
    "Больше всего предприятий общепита являются кафе, столовыми или ресторанами. Эти форматы наиболее рентабельны. Несетевых объектов значительно больше, что говорит о разнообразии нестандартного предложения на рынке. Среди лидеров по доле сетевых заведений - предприятия быстрого обслуживания, магазин(отдел кулинарии), рестораны и кафе. Меньше всего сетевых заведений среди столовых.  Заведения, которые наиболее интересны в аспекте наибольшего среднего количества посадочных мест - столовые, рестораны, буфеты, бары, кафе. Обычно, у сетевых заведений больше посадочных мест, чем у несетевых. Иначе обстоит ситуация со столовыми и буфетами - у несетевых заведений больше посадочных мест. Больше всего объектов общепита размещены в центральной части города, на улицах где есть много домов. Больше всего объектов в районах, которые находятся в центре или незначительно удалены от него. Больше всего улиц с 1 заведением общепита там, где слишком дорогая аренда. Содержать заведение в таком месте может оказаться нерентабельным. Обычно, на топ-10 улицах больше посадочных мест, чем в среднем по городу. Особенно выделяются бары и магазины(отдел кулинарии). Вечером в центр города люди могут приезжать и из других районов.\n",
    "\n",
    "#### Рекомендации\n",
    "\n",
    "Для понимания, насколько перспективно обслуживание роботами-официантами, необходимо открыть одно несетевое кафе. Первые клиенты должны оставать в кафе дольше и тратить больше денег, поэтому посадочных мест следует сделать больше, чем в среднем по рынку. Расположение заведения следует выбирать в том месте, где на улицах содержится не более одного объекта общепита, но в то же время хороший трафик и недорогая арендная плата. То есть это не самый центр, но и не спальный район города. Возможно, стоит подумать о том, чтобы поменять формат кафе на бар - такие заведения могут быть успешны и в центре города."
   ]
  }
 ],
 "metadata": {
  "kernelspec": {
   "display_name": "Python 3",
   "language": "python",
   "name": "python3"
  },
  "language_info": {
   "codemirror_mode": {
    "name": "ipython",
    "version": 3
   },
   "file_extension": ".py",
   "mimetype": "text/x-python",
   "name": "python",
   "nbconvert_exporter": "python",
   "pygments_lexer": "ipython3",
   "version": "3.6.9"
  },
  "toc": {
   "base_numbering": 1,
   "nav_menu": {},
   "number_sections": false,
   "sideBar": true,
   "skip_h1_title": true,
   "title_cell": "Table of Contents",
   "title_sidebar": "Contents",
   "toc_cell": false,
   "toc_position": {},
   "toc_section_display": true,
   "toc_window_display": false
  }
 },
 "nbformat": 4,
 "nbformat_minor": 2
}
